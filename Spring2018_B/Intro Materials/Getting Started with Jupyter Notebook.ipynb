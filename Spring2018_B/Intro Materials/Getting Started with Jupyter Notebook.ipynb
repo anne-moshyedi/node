{
 "cells": [
  {
   "cell_type": "markdown",
   "metadata": {},
   "source": [
    "Add:\n",
    "\n",
    "Practice opening notebook files/opening jupyter in general\n",
    "\t\t\n",
    "        -Explain python vs jupter notebook (integrated development environment)\n",
    "\t\t\n",
    "        -how input/output works\n",
    "\t\t\n",
    "        -how kernals work (sometimes they lag out)\n",
    "\t\t\n",
    "        -keyboard shortcuts\n",
    "\t\t\n",
    "        -minimizing outputs\n",
    "\t\t\n",
    "        -splitting cells\n",
    "\t\n",
    "    Write up code on the board TOGETHER (project onto new screen)\n",
    "\t\n",
    "    -doing basic math\n",
    "\n",
    "-Importing data (needs path or needs to be in the same folder, etc)\n",
    "\n",
    "-install a package\n",
    "\n",
    "    -pip install, conda install, pip3 install, !pip, \n",
    "\n",
    "-explain data types (e.g. string) vs commands\t\n",
    "-explain markdown\n",
    "-Working through errors: the solution is there somehow (otherwise google)"
   ]
  },
  {
   "cell_type": "code",
   "execution_count": null,
   "metadata": {
    "collapsed": true
   },
   "outputs": [],
   "source": [
    "## practice for loops, boolean indexing, etc. "
   ]
  },
  {
   "cell_type": "markdown",
   "metadata": {},
   "source": [
    "## Installation of Packages\n",
    "Before we dive into Numpy, we need to first install the package and then import it. First, you want to make sure that you have pip3 installed. This is a tool that makes it really easy to install the numerous packages that are found on the Python Package Index. Chances are that your computer already has pip installed but you need pip3, since we're working in Python 3. \n",
    "\n",
    "Go to your terminal and type:\n",
    "\n",
    "```terminal\n",
    "sudo easy_install pip\n",
    "\n",
    "```\n",
    "After you enter your login password, you have successfully installed the most recent version of pip and pip3! Now anytime you want to install a package, you type in the terminal: \n",
    "\n",
    "```terminal\n",
    "pip3 install insert_package_name_here\n",
    "```\n",
    "Or if you just want to do it within the Jupyter Notebook, just type: \n",
    "```terminal\n",
    "!pip3 install insert_package_name_here\n",
    "```\n",
    "Try installing 'numpy' on your own!\n",
    "\n",
    "## Importing Packages\n",
    "\n",
    "You only have to install a new package once using terminal. However, the package is not automatically added into your program; you need to first import it. We are going to import NumPy's contents into our program. Anytime we use a NumPy array or function, we can call it using an abbreviated name like np instead of typing the whole name (numpy)."
   ]
  },
  {
   "cell_type": "code",
   "execution_count": null,
   "metadata": {
    "collapsed": true
   },
   "outputs": [],
   "source": []
  }
 ],
 "metadata": {
  "kernelspec": {
   "display_name": "Python 3",
   "language": "python",
   "name": "python3"
  },
  "language_info": {
   "codemirror_mode": {
    "name": "ipython",
    "version": 3
   },
   "file_extension": ".py",
   "mimetype": "text/x-python",
   "name": "python",
   "nbconvert_exporter": "python",
   "pygments_lexer": "ipython3",
   "version": "3.6.1"
  }
 },
 "nbformat": 4,
 "nbformat_minor": 2
}
