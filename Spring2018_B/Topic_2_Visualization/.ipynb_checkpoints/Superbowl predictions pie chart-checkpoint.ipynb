{
 "cells": [
  {
   "cell_type": "markdown",
   "metadata": {},
   "source": [
    "# Super Bowl 2018: Patriot vs. Eagles - Node B Prediction"
   ]
  },
  {
   "cell_type": "code",
   "execution_count": null,
   "metadata": {
    "collapsed": true
   },
   "outputs": [],
   "source": [
    "import numpy as np\n",
    "import pandas as pd\n",
    "import matplotlib.pyplot as plt\n",
    "from matplotlib.gridspec import GridSpec\n",
    "from matplotlib import cm"
   ]
  },
  {
   "cell_type": "code",
   "execution_count": null,
   "metadata": {
    "collapsed": true
   },
   "outputs": [],
   "source": [
    "labels = 'Patriots', 'Eagles'\n",
    "fracs = [50, 50]\n",
    "colors = ['red', 'seagreen']\n",
    "\n",
    "explode = (0, 0)\n"
   ]
  },
  {
   "cell_type": "code",
   "execution_count": null,
   "metadata": {},
   "outputs": [],
   "source": [
    "# Make square figures and axes\n",
    "\n",
    "the_grid = GridSpec(1, 1)\n",
    "\n",
    "plt.subplot(the_grid[0, 0], aspect=1)\n",
    "\n",
    "plt.pie( fracs, labels=labels, autopct='%1.1f%%', shadow=True, colors = colors)\n",
    "plt.title ('Node B Superbowl 2018 Champion Predictions')\n",
    "\n",
    "\n",
    "\n"
   ]
  },
  {
   "cell_type": "code",
   "execution_count": null,
   "metadata": {},
   "outputs": [],
   "source": [
    "plt.show()"
   ]
  },
  {
   "cell_type": "code",
   "execution_count": null,
   "metadata": {
    "collapsed": true
   },
   "outputs": [],
   "source": [
    "labels2 = 'Patriots', 'Eagles'\n",
    "fracs2 = [71, 29]\n",
    "colors2 = ['red', 'seagreen']\n",
    "\n",
    "explode2 = (0, 0)"
   ]
  },
  {
   "cell_type": "code",
   "execution_count": null,
   "metadata": {},
   "outputs": [],
   "source": [
    "the_grid2 = GridSpec(1, 1)\n",
    "\n",
    "plt.subplot(the_grid2[0, 0], aspect=1)\n",
    "\n",
    "plt.pie( fracs2, labels=labels2, autopct='%1.1f%%', shadow=True, colors = colors2)\n",
    "plt.title ('Node A Superbowl 2018 Champion Predictions')"
   ]
  },
  {
   "cell_type": "code",
   "execution_count": null,
   "metadata": {},
   "outputs": [],
   "source": [
    "plt.show ()"
   ]
  },
  {
   "cell_type": "code",
   "execution_count": null,
   "metadata": {
    "collapsed": true
   },
   "outputs": [],
   "source": []
  }
 ],
 "metadata": {
  "kernelspec": {
   "display_name": "Python 3",
   "language": "python",
   "name": "python3"
  },
  "language_info": {
   "codemirror_mode": {
    "name": "ipython",
    "version": 3
   },
   "file_extension": ".py",
   "mimetype": "text/x-python",
   "name": "python",
   "nbconvert_exporter": "python",
   "pygments_lexer": "ipython3",
   "version": "3.6.1"
  }
 },
 "nbformat": 4,
 "nbformat_minor": 2
}
