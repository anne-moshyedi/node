{
 "cells": [
  {
   "cell_type": "code",
   "execution_count": null,
   "metadata": {
    "collapsed": true
   },
   "outputs": [],
   "source": [
    "import numpy as np\n",
    "import pandas as pd\n",
    "import matplotlib.pyplot as plt"
   ]
  },
  {
   "cell_type": "code",
   "execution_count": null,
   "metadata": {},
   "outputs": [],
   "source": [
    "!pip3 install getargspec"
   ]
  },
  {
   "cell_type": "markdown",
   "metadata": {},
   "source": [
    "# Importing the data"
   ]
  },
  {
   "cell_type": "code",
   "execution_count": null,
   "metadata": {},
   "outputs": [],
   "source": [
    "iris = pd.read_csv('iris.csv')\n",
    "iris.head()"
   ]
  },
  {
   "cell_type": "markdown",
   "metadata": {},
   "source": [
    "## Histograms\n",
    "Used to plot the frequency of score occurrences in a continuous data set that has been divided into classes, called bins.\n",
    "\n",
    "When should you use one? \n",
    "\n",
    "1. When the data are numerical.\n",
    "2. When you want to see the shape of the data’s distribution, especially when determining whether the output of a process is distributed approximately normally.\n",
    "3. When you wish to communicate the distribution of data quickly and easily to others."
   ]
  },
  {
   "cell_type": "code",
   "execution_count": null,
   "metadata": {},
   "outputs": [],
   "source": [
    "# plot the histogram\n",
    "plt.hist(iris['sepal_width'], bins = 20)\n",
    "# give the histogram a title\n",
    "plt.title('Sepal Length Histogram')\n",
    "# give the histogram an x-label\n",
    "plt.xlabel('Sepal Length')\n",
    "# give the histogram a y-label\n",
    "plt.ylabel('Count')\n",
    "# print the plot\n",
    "plt.show()"
   ]
  },
  {
   "cell_type": "markdown",
   "metadata": {},
   "source": [
    "##### Now lets plot the histograms for all or the columns…"
   ]
  },
  {
   "cell_type": "code",
   "execution_count": null,
   "metadata": {},
   "outputs": [],
   "source": [
    "for i in range(len(iris.columns)-1):\n",
    "    plt.hist(iris[iris.columns[i]], bins = 20)\n",
    "    plt.title(iris.columns[i] + ' histogram')\n",
    "    plt.xlabel(iris.columns[i])\n",
    "    plt.ylabel('Count')\n",
    "    plt.show()"
   ]
  },
  {
   "cell_type": "markdown",
   "metadata": {},
   "source": [
    "##### All of the Histograms on the same Plot…"
   ]
  },
  {
   "cell_type": "code",
   "execution_count": null,
   "metadata": {},
   "outputs": [],
   "source": [
    "# plot all of the histograms\n",
    "for i in range(len(iris.columns)-1):\n",
    "    plt.hist(iris[iris.columns[i]], bins = 20)\n",
    "\n",
    "    \n",
    "# give the plot a legend\n",
    "plt.legend(iris.columns)\n",
    "plt.show()"
   ]
  },
  {
   "cell_type": "markdown",
   "metadata": {},
   "source": [
    "# Scatter Plots\n",
    "\n",
    "First let's break up the data by class…"
   ]
  },
  {
   "cell_type": "code",
   "execution_count": null,
   "metadata": {},
   "outputs": [],
   "source": [
    "from matplotlib import style\n",
    "style.use('ggplot')\n",
    "\n",
    "categories = iris['class'].unique()\n",
    "colors = ['g', 'b', 'r']\n",
    "\n",
    "for i in range(len(categories)):\n",
    "    temp = iris.loc[iris['class'] == categories[i]]\n",
    "    plt.scatter(x = temp['sepal_length'], y = temp['sepal_width'], c = colors[i])\n",
    "\n",
    "plt.legend(categories)\n",
    "plt.show()"
   ]
  },
  {
   "cell_type": "markdown",
   "metadata": {},
   "source": [
    "### Another way to make the same plot using the seaborn library"
   ]
  },
  {
   "cell_type": "code",
   "execution_count": null,
   "metadata": {},
   "outputs": [],
   "source": [
    "import seaborn as sns\n",
    "\n",
    "sns.lmplot(data = iris, x = 'sepal_length', y = 'sepal_width', hue = 'class', fit_reg = False, legend = True)\n",
    "plt.show()"
   ]
  },
  {
   "cell_type": "markdown",
   "metadata": {},
   "source": [
    "# 3D Plots"
   ]
  },
  {
   "cell_type": "code",
   "execution_count": null,
   "metadata": {},
   "outputs": [],
   "source": [
    "from mpl_toolkits.mplot3d import axes3d\n",
    "\n",
    "fig = plt.figure()\n",
    "\n",
    "ax1 = fig.add_subplot(111, projection='3d')\n",
    "\n",
    "categories = iris['class'].unique()\n",
    "colors = ['r', 'g', 'b']\n",
    "\n",
    "for i in range(len(categories)):\n",
    "    temp = iris.loc[iris['class'] == categories[i]]\n",
    "    ax1.scatter(xs = temp['sepal_length'], ys = temp['sepal_width'], zs = temp['petal_width'], c = colors[i])\n",
    "\n",
    "\n",
    "plt.show()"
   ]
  },
  {
   "cell_type": "markdown",
   "metadata": {},
   "source": [
    "# Simple Line Graphs"
   ]
  },
  {
   "cell_type": "code",
   "execution_count": null,
   "metadata": {},
   "outputs": [],
   "source": [
    "# Make an array of 1000 numbers from 1-10\n",
    "x = np.linspace(0, 10, 1000)\n",
    "\n",
    "plt.plot(x, np.sin(x), label = \"sin()\") # Line plot of sin()\n",
    "plt.plot(x, np.cos(x), label = \"cos()\") # Line plot of cos()\n",
    "plt.legend() # Add a legend\n",
    "\n",
    "plt.show()"
   ]
  }
 ],
 "metadata": {
  "kernelspec": {
   "display_name": "Python 3",
   "language": "python",
   "name": "python3"
  },
  "language_info": {
   "codemirror_mode": {
    "name": "ipython",
    "version": 3
   },
   "file_extension": ".py",
   "mimetype": "text/x-python",
   "name": "python",
   "nbconvert_exporter": "python",
   "pygments_lexer": "ipython3",
   "version": "3.6.1"
  }
 },
 "nbformat": 4,
 "nbformat_minor": 2
}
