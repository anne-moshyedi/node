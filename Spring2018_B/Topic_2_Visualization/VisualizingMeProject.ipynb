{
 "cells": [
  {
   "cell_type": "code",
   "execution_count": 1,
   "metadata": {
    "collapsed": true
   },
   "outputs": [],
   "source": [
    "import numpy as np\n",
    "import pandas as pd\n",
    "import matplotlib.pyplot as plt"
   ]
  },
  {
   "cell_type": "code",
   "execution_count": 19,
   "metadata": {
    "collapsed": true
   },
   "outputs": [],
   "source": [
    "gvalues = [6,7,5,6,2,8]\n",
    "order = [1,2,3,4,5,6]\n",
    "bvalues = [5,5,7,2,8,6]\n",
    "labels =['Data Viz','Machine Learning',\"Mathematics\",'Statistics','CS','Communication']#domain expertise dropped since depends on context"
   ]
  },
  {
   "cell_type": "code",
   "execution_count": 23,
   "metadata": {},
   "outputs": [
    {
     "data": {
      "image/png": "[encoded data removed]",
      "text/plain": [
       "<matplotlib.figure.Figure at 0x1f900cf3588>"
      ]
     },
     "metadata": {},
     "output_type": "display_data"
    }
   ],
   "source": [
    "plt.bar(gorder, gvalues)\n",
    "plt.xticks(gorder,glabels, rotation=60)\n",
    "plt.yticks(np.arange(0,11,1))\n",
    "plt.show()"
   ]
  },
  {
   "cell_type": "markdown",
   "metadata": {},
   "source": [
    "Now as a team: Brian and George"
   ]
  },
  {
   "cell_type": "code",
   "execution_count": 24,
   "metadata": {},
   "outputs": [
    {
     "data": {
      "text/plain": [
       "<matplotlib.text.Text at 0x1f9010ead68>"
      ]
     },
     "execution_count": 24,
     "metadata": {},
     "output_type": "execute_result"
    }
   ],
   "source": [
    "g = plt.bar(order, gvalues)\n",
    "b = plt.bar(order, bvalues,bottom=gvalues)\n",
    "plt.xticks(order,labels, rotation=60)\n",
    "plt.yticks(np.arange(0,21,5))\n",
    "plt.legend((g[0],b[0]), ('George','Brian'))\n",
    "plt.title('Node B PL/PC Strengths')"
   ]
  },
  {
   "cell_type": "code",
   "execution_count": 25,
   "metadata": {},
   "outputs": [
    {
     "data": {
      "image/png": "[encoded data removed]",
      "text/plain": [
       "<matplotlib.figure.Figure at 0x1f901036208>"
      ]
     },
     "metadata": {},
     "output_type": "display_data"
    }
   ],
   "source": [
    "plt.show()"
   ]
  },
  {
   "cell_type": "markdown",
   "metadata": {},
   "source": [
    "### Visualizing Mobile Health Data\n",
    "Downloaded using QS Access for iPhone"
   ]
  },
  {
   "cell_type": "code",
   "execution_count": 34,
   "metadata": {
    "collapsed": true
   },
   "outputs": [],
   "source": [
    "healthdata=pd.read_csv('C:\\\\Users\\\\Student\\\\Desktop\\\\Health Data.csv')"
   ]
  },
  {
   "cell_type": "code",
   "execution_count": 35,
   "metadata": {},
   "outputs": [
    {
     "data": {
      "text/html": [
       "<div>\n",
       "<style>\n",
       "    .dataframe thead tr:only-child th {\n",
       "        text-align: right;\n",
       "    }\n",
       "\n",
       "    .dataframe thead th {\n",
       "        text-align: left;\n",
       "    }\n",
       "\n",
       "    .dataframe tbody tr th {\n",
       "        vertical-align: top;\n",
       "    }\n",
       "</style>\n",
       "<table border=\"1\" class=\"dataframe\">\n",
       "  <thead>\n",
       "    <tr style=\"text-align: right;\">\n",
       "      <th></th>\n",
       "      <th>Start</th>\n",
       "      <th>Finish</th>\n",
       "      <th>Distance (mi)</th>\n",
       "      <th>Flights Climbed (count)</th>\n",
       "    </tr>\n",
       "  </thead>\n",
       "  <tbody>\n",
       "    <tr>\n",
       "      <th>0</th>\n",
       "      <td>22-Nov-2017 14:00</td>\n",
       "      <td>22-Nov-2017 15:00</td>\n",
       "      <td>0.071433</td>\n",
       "      <td>0.0</td>\n",
       "    </tr>\n",
       "    <tr>\n",
       "      <th>1</th>\n",
       "      <td>22-Nov-2017 15:00</td>\n",
       "      <td>22-Nov-2017 16:00</td>\n",
       "      <td>0.000000</td>\n",
       "      <td>0.0</td>\n",
       "    </tr>\n",
       "    <tr>\n",
       "      <th>2</th>\n",
       "      <td>22-Nov-2017 16:00</td>\n",
       "      <td>22-Nov-2017 17:00</td>\n",
       "      <td>0.000000</td>\n",
       "      <td>0.0</td>\n",
       "    </tr>\n",
       "    <tr>\n",
       "      <th>3</th>\n",
       "      <td>22-Nov-2017 17:00</td>\n",
       "      <td>22-Nov-2017 18:00</td>\n",
       "      <td>0.036972</td>\n",
       "      <td>0.0</td>\n",
       "    </tr>\n",
       "    <tr>\n",
       "      <th>4</th>\n",
       "      <td>22-Nov-2017 18:00</td>\n",
       "      <td>22-Nov-2017 19:00</td>\n",
       "      <td>0.000000</td>\n",
       "      <td>0.0</td>\n",
       "    </tr>\n",
       "  </tbody>\n",
       "</table>\n",
       "</div>"
      ],
      "text/plain": [
       "               Start             Finish  Distance (mi)  \\\n",
       "0  22-Nov-2017 14:00  22-Nov-2017 15:00       0.071433   \n",
       "1  22-Nov-2017 15:00  22-Nov-2017 16:00       0.000000   \n",
       "2  22-Nov-2017 16:00  22-Nov-2017 17:00       0.000000   \n",
       "3  22-Nov-2017 17:00  22-Nov-2017 18:00       0.036972   \n",
       "4  22-Nov-2017 18:00  22-Nov-2017 19:00       0.000000   \n",
       "\n",
       "   Flights Climbed (count)  \n",
       "0                      0.0  \n",
       "1                      0.0  \n",
       "2                      0.0  \n",
       "3                      0.0  \n",
       "4                      0.0  "
      ]
     },
     "execution_count": 35,
     "metadata": {},
     "output_type": "execute_result"
    }
   ],
   "source": [
    "healthdata.head()"
   ]
  },
  {
   "cell_type": "code",
   "execution_count": 37,
   "metadata": {},
   "outputs": [],
   "source": [
    "healthdata['Start'] = pd.to_datetime(healthdata.Start)"
   ]
  },
  {
   "cell_type": "code",
   "execution_count": 39,
   "metadata": {
    "collapsed": true
   },
   "outputs": [],
   "source": [
    "healthdata['Finish'] = pd.to_datetime(healthdata.Finish)"
   ]
  },
  {
   "cell_type": "code",
   "execution_count": 42,
   "metadata": {},
   "outputs": [],
   "source": [
    "healthdata.set_index('Start', inplace = True)"
   ]
  },
  {
   "cell_type": "code",
   "execution_count": 43,
   "metadata": {},
   "outputs": [
    {
     "name": "stdout",
     "output_type": "stream",
     "text": [
      "<class 'pandas.core.frame.DataFrame'>\n",
      "DatetimeIndex: 2109 entries, 2017-11-22 14:00:00 to 2018-02-18 10:00:00\n",
      "Data columns (total 3 columns):\n",
      "Finish                     2109 non-null datetime64[ns]\n",
      "Distance (mi)              2109 non-null float64\n",
      "Flights Climbed (count)    2109 non-null float64\n",
      "dtypes: datetime64[ns](1), float64(2)\n",
      "memory usage: 65.9 KB\n"
     ]
    }
   ],
   "source": [
    "healthdata.info()"
   ]
  },
  {
   "cell_type": "code",
   "execution_count": 48,
   "metadata": {},
   "outputs": [],
   "source": [
    "grouped = healthdata.groupby(healthdata.index.hour).mean()"
   ]
  },
  {
   "cell_type": "code",
   "execution_count": null,
   "metadata": {
    "collapsed": true
   },
   "outputs": [],
   "source": [
    "#A day in the life of George"
   ]
  },
  {
   "cell_type": "code",
   "execution_count": 53,
   "metadata": {
    "collapsed": true
   },
   "outputs": [],
   "source": [
    "import seaborn as sns"
   ]
  },
  {
   "cell_type": "code",
   "execution_count": 55,
   "metadata": {},
   "outputs": [
    {
     "data": {
      "image/png": "[encoded data removed]",
      "text/plain": [
       "<matplotlib.figure.Figure at 0x1f902c586d8>"
      ]
     },
     "metadata": {},
     "output_type": "display_data"
    }
   ],
   "source": [
    "plt.scatter(grouped.index,grouped[grouped.columns[0]])\n",
    "plt.xticks(np.arange(0,24,1))\n",
    "plt.\n",
    "plt.show()"
   ]
  },
  {
   "cell_type": "code",
   "execution_count": 75,
   "metadata": {
    "collapsed": true
   },
   "outputs": [],
   "source": [
    "def two_scales(ax1, time, data1, data2, c1, c2):\n",
    "    \"\"\"\n",
    "\n",
    "    Parameters\n",
    "    ----------\n",
    "    ax : axis\n",
    "        Axis to put two scales on\n",
    "\n",
    "    time : array-like\n",
    "        x-axis values for both datasets\n",
    "\n",
    "    data1: array-like\n",
    "        Data for left hand scale\n",
    "\n",
    "    data2 : array-like\n",
    "        Data for right hand scale\n",
    "\n",
    "    c1 : color\n",
    "        Color for line 1\n",
    "\n",
    "    c2 : color\n",
    "        Color for line 2\n",
    "\n",
    "    Returns\n",
    "    -------\n",
    "    ax : axis\n",
    "        Original axis\n",
    "    ax2 : axis\n",
    "        New twin axis\n",
    "    \"\"\"\n",
    "    ax2 = ax1.twinx()\n",
    "\n",
    "    ax1.plot(time, data1, color=c1)\n",
    "    ax1.set_xlabel('Hour in Day')\n",
    "    ax1.set_ylabel('Average Distance (Mi)')\n",
    "\n",
    "    ax2.plot(time, data2, color=c2)\n",
    "    ax2.set_ylabel('Average Flights Climbed')\n",
    "    return ax1, ax2"
   ]
  },
  {
   "cell_type": "code",
   "execution_count": 76,
   "metadata": {},
   "outputs": [],
   "source": [
    "# Create some mock data\n",
    "t = grouped.index\n",
    "s1 = grouped[grouped.columns[0]]\n",
    "s2 = grouped[grouped.columns[1]]\n",
    "\n",
    "# Create axes\n",
    "fig, ax = plt.subplots()\n",
    "ax1, ax2 = two_scales(ax, t, s1, s2, 'r', 'b')"
   ]
  },
  {
   "cell_type": "code",
   "execution_count": 77,
   "metadata": {},
   "outputs": [
    {
     "data": {
      "image/png": "[encoded data removed]",
      "text/plain": [
       "<matplotlib.figure.Figure at 0x1f9031bd080>"
      ]
     },
     "metadata": {},
     "output_type": "display_data"
    }
   ],
   "source": [
    "# Change color of each axis\n",
    "def color_y_axis(ax, color):\n",
    "    \"\"\"Color your axes.\"\"\"\n",
    "    for t in ax.get_yticklabels():\n",
    "        t.set_color(color)\n",
    "    return None\n",
    "color_y_axis(ax1, 'r')\n",
    "color_y_axis(ax2, 'b')\n",
    "plt.xticks(np.arange(0,24,2))\n",
    "plt.show()"
   ]
  },
  {
   "cell_type": "code",
   "execution_count": null,
   "metadata": {
    "collapsed": true
   },
   "outputs": [],
   "source": []
  }
 ],
 "metadata": {
  "kernelspec": {
   "display_name": "Python 3",
   "language": "python",
   "name": "python3"
  },
  "language_info": {
   "codemirror_mode": {
    "name": "ipython",
    "version": 3
   },
   "file_extension": ".py",
   "mimetype": "text/x-python",
   "name": "python",
   "nbconvert_exporter": "python",
   "pygments_lexer": "ipython3",
   "version": "3.6.1"
  }
 },
 "nbformat": 4,
 "nbformat_minor": 2
}
