{
 "cells": [
  {
   "cell_type": "markdown",
   "metadata": {},
   "source": [
    "# Data Visualization with Python\n",
    "\n",
    "Taken from https://www.techchange.org/2015/05/19/data-visualization-analysis-international-development/\n",
    "\n",
    "\"One way to analyze data is through data visualizations. Data visualization turns numbers and letters into aesthetically pleasing visuals, making it easy to recognize patterns and find exceptions.\n",
    "\n",
    "Benefits of visualizing data:\n",
    "1. recognize patterns not seen by plain csv tables\n",
    "2. more easily identify outliers and exceptions in the dataset\n",
    "3. allows for analyzing data over time (calendar scrolls)\"\n",
    "\n",
    "\n",
    "There are many ways to visualize data, but this tutorial will provide a reference to many common python visualization techniques.\n",
    "\n",
    "\n",
    "Techniques adapted from:\n",
    "1. https://www.analyticsvidhya.com/blog/2015/05/data-visualization-python/\n",
    "2. https://matplotlib.org/gallery.html\n",
    "\n",
    "\n",
    "We are going to cover:\n",
    "    1. histograms\n",
    "    2. boxplots\n",
    "    3. scatter plot\n",
    "    4. heat map\n",
    "    \n"
   ]
  },
  {
   "cell_type": "code",
   "execution_count": null,
   "metadata": {
    "collapsed": true
   },
   "outputs": [],
   "source": [
    "## Getting Started\n",
    "import matplotlib.pyplot as plt\n",
    "import pandas as pd\n",
    "import numpy as np"
   ]
  },
  {
   "cell_type": "markdown",
   "metadata": {},
   "source": [
    "## Histograms\n",
    "used to plot the frequency of score occurrences in a continuous data set that has been divided into classes, called bins.\n",
    "\n",
    "When should you use one? \n",
    "\n",
    "1. When the data are numerical.\n",
    "2. When you want to see the shape of the data’s distribution, especially when determining whether the output of a process is distributed approximately normally.\n",
    "3. When you wish to communicate the distribution of data quickly and easily to others.\n"
   ]
  },
  {
   "cell_type": "code",
   "execution_count": null,
   "metadata": {},
   "outputs": [],
   "source": [
    "np.random.seed(0)\n",
    "\n",
    "mu = 200\n",
    "sigma = 25\n",
    "x = np.random.normal(mu, sigma, size=100)\n",
    "\n",
    "fig, (ax0, ax1) = plt.subplots(ncols=2, figsize=(8, 4))\n",
    "\n",
    "ax0.hist(x, 20, normed=1, histtype='stepfilled', facecolor='g', alpha=0.75)\n",
    "ax0.set_title('stepfilled')\n",
    "\n",
    "# Create a histogram by providing the bin edges (unequally spaced).\n",
    "bins = [100, 150, 180, 195, 205, 220, 250, 300]\n",
    "ax1.hist(x, bins, normed=1, histtype='bar', rwidth=0.8)\n",
    "ax1.set_title('unequal bins')\n",
    "\n",
    "fig.tight_layout()\n",
    "plt.show()"
   ]
  },
  {
   "cell_type": "markdown",
   "metadata": {},
   "source": [
    "## Boxplots\n",
    "\n",
    "1. are useful for identifying outliers and for comparing distributions. \n",
    "2. are non-parametric: they display variation in samples of a statistical population without making any assumptions of the underlying statistical distribution. \n",
    "3. The spacings between the different parts of the box indicate the degree of dispersion (spread) and skewness in the data, and show outliers.\n",
    "3. they allow one to visually estimate various L-estimators, notably the interquartile range, midhinge, range, mid-range"
   ]
  },
  {
   "cell_type": "code",
   "execution_count": null,
   "metadata": {},
   "outputs": [],
   "source": [
    "# Random test data\n",
    "np.random.seed(123)\n",
    "all_data = [np.random.normal(0, std, 100) for std in range(1, 4)]\n",
    "\n",
    "fig, axes = plt.subplots(nrows=1, ncols=2, figsize=(9, 4))\n",
    "\n",
    "# rectangular box plot\n",
    "bplot1 = axes[0].boxplot(all_data,\n",
    "                         vert=True,   # vertical box aligmnent\n",
    "                         patch_artist=True)   # fill with color\n",
    "\n",
    "\n",
    "# fill with colors\n",
    "colors = ['pink', 'lightblue', 'lightgreen']\n",
    "for patch, color in zip(bplot1['boxes'], colors):\n",
    "        patch.set_facecolor(color)\n",
    "\n",
    "# adding horizontal grid lines\n",
    "for ax in axes:\n",
    "    ax.yaxis.grid(True)\n",
    "    ax.set_xticks([y+1 for y in range(len(all_data))], )\n",
    "    ax.set_xlabel('xlabel')\n",
    "    ax.set_ylabel('ylabel')\n",
    "\n",
    "# add x-tick labels\n",
    "plt.setp(axes, xticks=[y+1 for y in range(len(all_data))],\n",
    "         xticklabels=['x1', 'x2', 'x3', 'x4'])\n",
    "\n",
    "plt.show()"
   ]
  },
  {
   "cell_type": "markdown",
   "metadata": {},
   "source": [
    "##breakdown boxplots here"
   ]
  },
  {
   "cell_type": "markdown",
   "metadata": {},
   "source": [
    "## Scatter Plots\n",
    "\n",
    "show how much one variable is affected by another. The relationship between two variables is called their correlation \n",
    "\n",
    "Useful when:\n",
    "1.  you need to find potential relationships between values, and to find outliers in data sets. \n",
    "2.  when you want to show data where each instance has at least two metrics, for example, average life expectancy and average gross domestic product per capita in different countries.\n",
    "\n",
    "Advantages\n",
    "\n",
    "Can visualize the correlation of two or more measures at the same time. The third measure is an efficient way of differentiating between values and simplifying the identification of, for example, large countries, large customers, large quantities, and so on."
   ]
  },
  {
   "cell_type": "code",
   "execution_count": null,
   "metadata": {},
   "outputs": [],
   "source": [
    "N = 50\n",
    "x = np.random.rand(N)\n",
    "y = np.random.rand(N)\n",
    "colors = np.random.rand(N)\n",
    "area = np.pi * (15 * np.random.rand(N))**2  # 0 to 15 point radii\n",
    "\n",
    "plt.scatter(x, y, s=area, c=colors, alpha=0.5)\n",
    "plt.show()"
   ]
  },
  {
   "cell_type": "markdown",
   "metadata": {},
   "source": [
    "## Heat Maps\n",
    "\n",
    "visualization feature that presents multiple rows of data in a way that makes immediate sense by assigning different size and color to cells each representing a row. \n",
    "\n",
    "A color slider at the bottom or on the side of the heat map allows the end-user to easily spot the high and low outliers in the column represented by color.\n",
    "\n",
    "Biggest Benefit: they use color to communicate relationships between data values that would be would be much harder to understand if presented numerically in a spreadsheet. When done properly, the conclusions of the visualization should be immediately clear to the reader.\n"
   ]
  },
  {
   "cell_type": "code",
   "execution_count": null,
   "metadata": {},
   "outputs": [],
   "source": [
    "data = np.random.rand(4,2)\n",
    "rows = list('1234') #rows categories\n",
    "columns = list('MF') #column categories\n",
    "fig,ax=plt.subplots()\n",
    "#Advance color controls\n",
    "ax.pcolor(data,cmap=plt.cm.Reds,edgecolors='k')\n",
    "ax.set_xticks(np.arange(0,2)+0.5)\n",
    "ax.set_yticks(np.arange(0,4)+0.5)\n",
    "# Here we position the tick labels for x and y axis\n",
    "ax.xaxis.tick_bottom()\n",
    "ax.yaxis.tick_left()\n",
    "#Values against each labels\n",
    "ax.set_xticklabels(columns,minor=False,fontsize=20)\n",
    "ax.set_yticklabels(rows,minor=False,fontsize=20)\n",
    "plt.show()"
   ]
  },
  {
   "cell_type": "markdown",
   "metadata": {
    "collapsed": true
   },
   "source": [
    "# Explore\n",
    "\n",
    "need the docs? just run \n"
   ]
  },
  {
   "cell_type": "code",
   "execution_count": null,
   "metadata": {
    "collapsed": true
   },
   "outputs": [],
   "source": [
    "help()\n"
   ]
  },
  {
   "cell_type": "markdown",
   "metadata": {},
   "source": [
    "# Line of Best Fit\n",
    "\n"
   ]
  },
  {
   "cell_type": "code",
   "execution_count": null,
   "metadata": {
    "collapsed": true
   },
   "outputs": [],
   "source": [
    "import matplotlib.pyplot as plt\n",
    "import numpy as np"
   ]
  },
  {
   "cell_type": "code",
   "execution_count": null,
   "metadata": {
    "collapsed": true
   },
   "outputs": [],
   "source": [
    "n = 50\n",
    "x = np.random.randn(n)\n",
    "y = x * np.random.randn(n)\n",
    "\n",
    "fig, ax = plt.subplots()\n",
    "fit = np.polyfit(x, y, deg=1)\n",
    "ax.plot(x, fit[0] * x + fit[1], color='red')\n",
    "ax.scatter(x, y)\n",
    "\n"
   ]
  },
  {
   "cell_type": "code",
   "execution_count": null,
   "metadata": {
    "collapsed": true
   },
   "outputs": [],
   "source": [
    "fig.show()"
   ]
  },
  {
   "cell_type": "code",
   "execution_count": null,
   "metadata": {
    "collapsed": true
   },
   "outputs": [],
   "source": []
  }
 ],
 "metadata": {
  "kernelspec": {
   "display_name": "Python 3",
   "language": "python",
   "name": "python3"
  },
  "language_info": {
   "codemirror_mode": {
    "name": "ipython",
    "version": 3
   },
   "file_extension": ".py",
   "mimetype": "text/x-python",
   "name": "python",
   "nbconvert_exporter": "python",
   "pygments_lexer": "ipython3",
   "version": "3.6.1"
  }
 },
 "nbformat": 4,
 "nbformat_minor": 2
}
