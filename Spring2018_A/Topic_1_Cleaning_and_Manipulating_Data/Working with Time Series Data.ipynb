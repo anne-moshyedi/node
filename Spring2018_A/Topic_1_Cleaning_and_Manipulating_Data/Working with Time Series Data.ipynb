{
 "cells": [
  {
   "cell_type": "markdown",
   "metadata": {},
   "source": [
    "# Time Series Data\n",
    "\n",
    "Wikipedia definition of **Time Series**: \n",
    "\n",
    "            A time series is a series of data points indexed in time order. Most commonly, a\n",
    "            time series is a sequence taken at successive equally spaced points in time. Thus it is a sequence of\n",
    "            discrete-time data."
   ]
  },
  {
   "cell_type": "code",
   "execution_count": 31,
   "metadata": {
    "collapsed": true
   },
   "outputs": [],
   "source": [
    "import numpy as np\n",
    "import pandas as pd"
   ]
  },
  {
   "cell_type": "markdown",
   "metadata": {},
   "source": [
    "For this example we will use Bitcoin price data from [Quandl](https://www.quandl.com/data/BITFINEX/BTCUSD-BTC-USD-Exchange-Rate)…"
   ]
  },
  {
   "cell_type": "code",
   "execution_count": 38,
   "metadata": {
    "collapsed": false
   },
   "outputs": [
    {
     "data": {
      "text/html": [
       "<div>\n",
       "<style>\n",
       "    .dataframe thead tr:only-child th {\n",
       "        text-align: right;\n",
       "    }\n",
       "\n",
       "    .dataframe thead th {\n",
       "        text-align: left;\n",
       "    }\n",
       "\n",
       "    .dataframe tbody tr th {\n",
       "        vertical-align: top;\n",
       "    }\n",
       "</style>\n",
       "<table border=\"1\" class=\"dataframe\">\n",
       "  <thead>\n",
       "    <tr style=\"text-align: right;\">\n",
       "      <th></th>\n",
       "      <th>Date</th>\n",
       "      <th>High</th>\n",
       "      <th>Low</th>\n",
       "      <th>Mid</th>\n",
       "      <th>Last</th>\n",
       "      <th>Bid</th>\n",
       "      <th>Ask</th>\n",
       "      <th>Volume</th>\n",
       "    </tr>\n",
       "  </thead>\n",
       "  <tbody>\n",
       "    <tr>\n",
       "      <th>0</th>\n",
       "      <td>2014-04-15</td>\n",
       "      <td>513.9000</td>\n",
       "      <td>452.00</td>\n",
       "      <td>504.23500</td>\n",
       "      <td>505.0000</td>\n",
       "      <td>503.5000</td>\n",
       "      <td>504.97</td>\n",
       "      <td>21013.584774</td>\n",
       "    </tr>\n",
       "    <tr>\n",
       "      <th>1</th>\n",
       "      <td>2014-04-16</td>\n",
       "      <td>547.0000</td>\n",
       "      <td>495.00</td>\n",
       "      <td>537.50000</td>\n",
       "      <td>538.0000</td>\n",
       "      <td>537.0000</td>\n",
       "      <td>538.00</td>\n",
       "      <td>29633.358705</td>\n",
       "    </tr>\n",
       "    <tr>\n",
       "      <th>2</th>\n",
       "      <td>2014-04-17</td>\n",
       "      <td>538.5000</td>\n",
       "      <td>486.10</td>\n",
       "      <td>507.02000</td>\n",
       "      <td>508.0000</td>\n",
       "      <td>506.0400</td>\n",
       "      <td>508.00</td>\n",
       "      <td>20709.783819</td>\n",
       "    </tr>\n",
       "    <tr>\n",
       "      <th>3</th>\n",
       "      <td>2014-04-18</td>\n",
       "      <td>509.0000</td>\n",
       "      <td>474.25</td>\n",
       "      <td>483.77000</td>\n",
       "      <td>482.7500</td>\n",
       "      <td>482.7500</td>\n",
       "      <td>484.79</td>\n",
       "      <td>10458.045243</td>\n",
       "    </tr>\n",
       "    <tr>\n",
       "      <th>4</th>\n",
       "      <td>2014-04-19</td>\n",
       "      <td>513.9899</td>\n",
       "      <td>473.83</td>\n",
       "      <td>505.01065</td>\n",
       "      <td>507.4999</td>\n",
       "      <td>502.5313</td>\n",
       "      <td>507.49</td>\n",
       "      <td>8963.618369</td>\n",
       "    </tr>\n",
       "  </tbody>\n",
       "</table>\n",
       "</div>"
      ],
      "text/plain": [
       "         Date      High     Low        Mid      Last       Bid     Ask  \\\n",
       "0  2014-04-15  513.9000  452.00  504.23500  505.0000  503.5000  504.97   \n",
       "1  2014-04-16  547.0000  495.00  537.50000  538.0000  537.0000  538.00   \n",
       "2  2014-04-17  538.5000  486.10  507.02000  508.0000  506.0400  508.00   \n",
       "3  2014-04-18  509.0000  474.25  483.77000  482.7500  482.7500  484.79   \n",
       "4  2014-04-19  513.9899  473.83  505.01065  507.4999  502.5313  507.49   \n",
       "\n",
       "         Volume  \n",
       "0  21013.584774  \n",
       "1  29633.358705  \n",
       "2  20709.783819  \n",
       "3  10458.045243  \n",
       "4   8963.618369  "
      ]
     },
     "execution_count": 38,
     "metadata": {},
     "output_type": "execute_result"
    }
   ],
   "source": [
    "df = pd.read_csv('BTCUSD.csv')\n",
    "df.head()"
   ]
  },
  {
   "cell_type": "markdown",
   "metadata": {},
   "source": [
    "First, look at the data type of the columns…"
   ]
  },
  {
   "cell_type": "code",
   "execution_count": 39,
   "metadata": {
    "collapsed": false
   },
   "outputs": [
    {
     "name": "stdout",
     "output_type": "stream",
     "text": [
      "<class 'pandas.core.frame.DataFrame'>\n",
      "RangeIndex: 1343 entries, 0 to 1342\n",
      "Data columns (total 8 columns):\n",
      "Date      1343 non-null object\n",
      "High      1343 non-null float64\n",
      "Low       1343 non-null float64\n",
      "Mid       1343 non-null float64\n",
      "Last      1343 non-null float64\n",
      "Bid       1343 non-null float64\n",
      "Ask       1343 non-null float64\n",
      "Volume    1343 non-null float64\n",
      "dtypes: float64(7), object(1)\n",
      "memory usage: 84.0+ KB\n"
     ]
    }
   ],
   "source": [
    "df.info()"
   ]
  },
  {
   "cell_type": "markdown",
   "metadata": {},
   "source": [
    "### Create your DateTime Object\n",
    "\n",
    "Notice that the data type of the 'Date' column is object. We will have to convert the data type of the column to datetime in order to use the special properties of the datetime data type…"
   ]
  },
  {
   "cell_type": "code",
   "execution_count": 40,
   "metadata": {
    "collapsed": false
   },
   "outputs": [
    {
     "name": "stdout",
     "output_type": "stream",
     "text": [
      "<class 'pandas.core.frame.DataFrame'>\n",
      "RangeIndex: 1343 entries, 0 to 1342\n",
      "Data columns (total 8 columns):\n",
      "Date      1343 non-null datetime64[ns]\n",
      "High      1343 non-null float64\n",
      "Low       1343 non-null float64\n",
      "Mid       1343 non-null float64\n",
      "Last      1343 non-null float64\n",
      "Bid       1343 non-null float64\n",
      "Ask       1343 non-null float64\n",
      "Volume    1343 non-null float64\n",
      "dtypes: datetime64[ns](1), float64(7)\n",
      "memory usage: 84.0 KB\n",
      "None\n"
     ]
    },
    {
     "data": {
      "text/html": [
       "<div>\n",
       "<style>\n",
       "    .dataframe thead tr:only-child th {\n",
       "        text-align: right;\n",
       "    }\n",
       "\n",
       "    .dataframe thead th {\n",
       "        text-align: left;\n",
       "    }\n",
       "\n",
       "    .dataframe tbody tr th {\n",
       "        vertical-align: top;\n",
       "    }\n",
       "</style>\n",
       "<table border=\"1\" class=\"dataframe\">\n",
       "  <thead>\n",
       "    <tr style=\"text-align: right;\">\n",
       "      <th></th>\n",
       "      <th>Date</th>\n",
       "      <th>High</th>\n",
       "      <th>Low</th>\n",
       "      <th>Mid</th>\n",
       "      <th>Last</th>\n",
       "      <th>Bid</th>\n",
       "      <th>Ask</th>\n",
       "      <th>Volume</th>\n",
       "    </tr>\n",
       "  </thead>\n",
       "  <tbody>\n",
       "    <tr>\n",
       "      <th>0</th>\n",
       "      <td>2014-04-15</td>\n",
       "      <td>513.9000</td>\n",
       "      <td>452.00</td>\n",
       "      <td>504.23500</td>\n",
       "      <td>505.0000</td>\n",
       "      <td>503.5000</td>\n",
       "      <td>504.97</td>\n",
       "      <td>21013.584774</td>\n",
       "    </tr>\n",
       "    <tr>\n",
       "      <th>1</th>\n",
       "      <td>2014-04-16</td>\n",
       "      <td>547.0000</td>\n",
       "      <td>495.00</td>\n",
       "      <td>537.50000</td>\n",
       "      <td>538.0000</td>\n",
       "      <td>537.0000</td>\n",
       "      <td>538.00</td>\n",
       "      <td>29633.358705</td>\n",
       "    </tr>\n",
       "    <tr>\n",
       "      <th>2</th>\n",
       "      <td>2014-04-17</td>\n",
       "      <td>538.5000</td>\n",
       "      <td>486.10</td>\n",
       "      <td>507.02000</td>\n",
       "      <td>508.0000</td>\n",
       "      <td>506.0400</td>\n",
       "      <td>508.00</td>\n",
       "      <td>20709.783819</td>\n",
       "    </tr>\n",
       "    <tr>\n",
       "      <th>3</th>\n",
       "      <td>2014-04-18</td>\n",
       "      <td>509.0000</td>\n",
       "      <td>474.25</td>\n",
       "      <td>483.77000</td>\n",
       "      <td>482.7500</td>\n",
       "      <td>482.7500</td>\n",
       "      <td>484.79</td>\n",
       "      <td>10458.045243</td>\n",
       "    </tr>\n",
       "    <tr>\n",
       "      <th>4</th>\n",
       "      <td>2014-04-19</td>\n",
       "      <td>513.9899</td>\n",
       "      <td>473.83</td>\n",
       "      <td>505.01065</td>\n",
       "      <td>507.4999</td>\n",
       "      <td>502.5313</td>\n",
       "      <td>507.49</td>\n",
       "      <td>8963.618369</td>\n",
       "    </tr>\n",
       "  </tbody>\n",
       "</table>\n",
       "</div>"
      ],
      "text/plain": [
       "        Date      High     Low        Mid      Last       Bid     Ask  \\\n",
       "0 2014-04-15  513.9000  452.00  504.23500  505.0000  503.5000  504.97   \n",
       "1 2014-04-16  547.0000  495.00  537.50000  538.0000  537.0000  538.00   \n",
       "2 2014-04-17  538.5000  486.10  507.02000  508.0000  506.0400  508.00   \n",
       "3 2014-04-18  509.0000  474.25  483.77000  482.7500  482.7500  484.79   \n",
       "4 2014-04-19  513.9899  473.83  505.01065  507.4999  502.5313  507.49   \n",
       "\n",
       "         Volume  \n",
       "0  21013.584774  \n",
       "1  29633.358705  \n",
       "2  20709.783819  \n",
       "3  10458.045243  \n",
       "4   8963.618369  "
      ]
     },
     "execution_count": 40,
     "metadata": {},
     "output_type": "execute_result"
    }
   ],
   "source": [
    "df['Date'] = pd.to_datetime(df['Date'])\n",
    "\n",
    "print(df.info())\n",
    "df.head()"
   ]
  },
  {
   "cell_type": "markdown",
   "metadata": {},
   "source": [
    "Every date in the 'Date' column is now of data type **datetime64**. Datetime objects are in the format **yyyy-mm-dd** by default and will sometimes contain information down to the second if the proper data is provided.\n",
    "\n",
    "### Make a DateTime Index\n",
    "\n",
    "It is often useful (and common practice) to organize your time series data by making a datetime index."
   ]
  },
  {
   "cell_type": "code",
   "execution_count": 41,
   "metadata": {
    "collapsed": false
   },
   "outputs": [
    {
     "data": {
      "text/html": [
       "<div>\n",
       "<style>\n",
       "    .dataframe thead tr:only-child th {\n",
       "        text-align: right;\n",
       "    }\n",
       "\n",
       "    .dataframe thead th {\n",
       "        text-align: left;\n",
       "    }\n",
       "\n",
       "    .dataframe tbody tr th {\n",
       "        vertical-align: top;\n",
       "    }\n",
       "</style>\n",
       "<table border=\"1\" class=\"dataframe\">\n",
       "  <thead>\n",
       "    <tr style=\"text-align: right;\">\n",
       "      <th></th>\n",
       "      <th>High</th>\n",
       "      <th>Low</th>\n",
       "      <th>Mid</th>\n",
       "      <th>Last</th>\n",
       "      <th>Bid</th>\n",
       "      <th>Ask</th>\n",
       "      <th>Volume</th>\n",
       "    </tr>\n",
       "    <tr>\n",
       "      <th>Date</th>\n",
       "      <th></th>\n",
       "      <th></th>\n",
       "      <th></th>\n",
       "      <th></th>\n",
       "      <th></th>\n",
       "      <th></th>\n",
       "      <th></th>\n",
       "    </tr>\n",
       "  </thead>\n",
       "  <tbody>\n",
       "    <tr>\n",
       "      <th>2014-04-15</th>\n",
       "      <td>513.9000</td>\n",
       "      <td>452.00</td>\n",
       "      <td>504.23500</td>\n",
       "      <td>505.0000</td>\n",
       "      <td>503.5000</td>\n",
       "      <td>504.97</td>\n",
       "      <td>21013.584774</td>\n",
       "    </tr>\n",
       "    <tr>\n",
       "      <th>2014-04-16</th>\n",
       "      <td>547.0000</td>\n",
       "      <td>495.00</td>\n",
       "      <td>537.50000</td>\n",
       "      <td>538.0000</td>\n",
       "      <td>537.0000</td>\n",
       "      <td>538.00</td>\n",
       "      <td>29633.358705</td>\n",
       "    </tr>\n",
       "    <tr>\n",
       "      <th>2014-04-17</th>\n",
       "      <td>538.5000</td>\n",
       "      <td>486.10</td>\n",
       "      <td>507.02000</td>\n",
       "      <td>508.0000</td>\n",
       "      <td>506.0400</td>\n",
       "      <td>508.00</td>\n",
       "      <td>20709.783819</td>\n",
       "    </tr>\n",
       "    <tr>\n",
       "      <th>2014-04-18</th>\n",
       "      <td>509.0000</td>\n",
       "      <td>474.25</td>\n",
       "      <td>483.77000</td>\n",
       "      <td>482.7500</td>\n",
       "      <td>482.7500</td>\n",
       "      <td>484.79</td>\n",
       "      <td>10458.045243</td>\n",
       "    </tr>\n",
       "    <tr>\n",
       "      <th>2014-04-19</th>\n",
       "      <td>513.9899</td>\n",
       "      <td>473.83</td>\n",
       "      <td>505.01065</td>\n",
       "      <td>507.4999</td>\n",
       "      <td>502.5313</td>\n",
       "      <td>507.49</td>\n",
       "      <td>8963.618369</td>\n",
       "    </tr>\n",
       "  </tbody>\n",
       "</table>\n",
       "</div>"
      ],
      "text/plain": [
       "                High     Low        Mid      Last       Bid     Ask  \\\n",
       "Date                                                                  \n",
       "2014-04-15  513.9000  452.00  504.23500  505.0000  503.5000  504.97   \n",
       "2014-04-16  547.0000  495.00  537.50000  538.0000  537.0000  538.00   \n",
       "2014-04-17  538.5000  486.10  507.02000  508.0000  506.0400  508.00   \n",
       "2014-04-18  509.0000  474.25  483.77000  482.7500  482.7500  484.79   \n",
       "2014-04-19  513.9899  473.83  505.01065  507.4999  502.5313  507.49   \n",
       "\n",
       "                  Volume  \n",
       "Date                      \n",
       "2014-04-15  21013.584774  \n",
       "2014-04-16  29633.358705  \n",
       "2014-04-17  20709.783819  \n",
       "2014-04-18  10458.045243  \n",
       "2014-04-19   8963.618369  "
      ]
     },
     "execution_count": 41,
     "metadata": {},
     "output_type": "execute_result"
    }
   ],
   "source": [
    "df.set_index('Date', inplace = True)\n",
    "df.head()"
   ]
  },
  {
   "cell_type": "markdown",
   "metadata": {},
   "source": [
    "## DateTime Index Properties\n",
    "\n",
    "### Extract the Year, Month, and Day"
   ]
  },
  {
   "cell_type": "code",
   "execution_count": 42,
   "metadata": {
    "collapsed": false
   },
   "outputs": [
    {
     "data": {
      "text/plain": [
       "Int64Index([2014, 2014, 2014, 2014, 2014, 2014, 2014, 2014, 2014, 2014,\n",
       "            ...\n",
       "            2018, 2018, 2018, 2018, 2018, 2018, 2018, 2018, 2018, 2018],\n",
       "           dtype='int64', name='Date', length=1343)"
      ]
     },
     "execution_count": 42,
     "metadata": {},
     "output_type": "execute_result"
    }
   ],
   "source": [
    "# Years\n",
    "df.index.year"
   ]
  },
  {
   "cell_type": "code",
   "execution_count": 43,
   "metadata": {
    "collapsed": false
   },
   "outputs": [
    {
     "data": {
      "text/plain": [
       "Int64Index([4, 4, 4, 4, 4, 4, 4, 4, 4, 4,\n",
       "            ...\n",
       "            1, 1, 1, 1, 1, 1, 1, 1, 1, 1],\n",
       "           dtype='int64', name='Date', length=1343)"
      ]
     },
     "execution_count": 43,
     "metadata": {},
     "output_type": "execute_result"
    }
   ],
   "source": [
    "# Months\n",
    "df.index.month"
   ]
  },
  {
   "cell_type": "code",
   "execution_count": 44,
   "metadata": {
    "collapsed": false
   },
   "outputs": [
    {
     "data": {
      "text/plain": [
       "Int64Index([15, 16, 17, 18, 19, 20, 21, 22, 23, 24,\n",
       "            ...\n",
       "             9, 10, 11, 12, 13, 14, 15, 16, 17, 18],\n",
       "           dtype='int64', name='Date', length=1343)"
      ]
     },
     "execution_count": 44,
     "metadata": {},
     "output_type": "execute_result"
    }
   ],
   "source": [
    "# Days\n",
    "df.index.day"
   ]
  },
  {
   "cell_type": "code",
   "execution_count": 45,
   "metadata": {
    "collapsed": false
   },
   "outputs": [
    {
     "data": {
      "text/html": [
       "<div>\n",
       "<style>\n",
       "    .dataframe thead tr:only-child th {\n",
       "        text-align: right;\n",
       "    }\n",
       "\n",
       "    .dataframe thead th {\n",
       "        text-align: left;\n",
       "    }\n",
       "\n",
       "    .dataframe tbody tr th {\n",
       "        vertical-align: top;\n",
       "    }\n",
       "</style>\n",
       "<table border=\"1\" class=\"dataframe\">\n",
       "  <thead>\n",
       "    <tr style=\"text-align: right;\">\n",
       "      <th></th>\n",
       "      <th>High</th>\n",
       "      <th>Low</th>\n",
       "      <th>Mid</th>\n",
       "      <th>Last</th>\n",
       "      <th>Bid</th>\n",
       "      <th>Ask</th>\n",
       "      <th>Volume</th>\n",
       "    </tr>\n",
       "    <tr>\n",
       "      <th>Date</th>\n",
       "      <th></th>\n",
       "      <th></th>\n",
       "      <th></th>\n",
       "      <th></th>\n",
       "      <th></th>\n",
       "      <th></th>\n",
       "      <th></th>\n",
       "    </tr>\n",
       "  </thead>\n",
       "  <tbody>\n",
       "    <tr>\n",
       "      <th>1</th>\n",
       "      <td>2909.784807</td>\n",
       "      <td>2595.553474</td>\n",
       "      <td>2779.482045</td>\n",
       "      <td>2779.638705</td>\n",
       "      <td>2778.933364</td>\n",
       "      <td>2780.030727</td>\n",
       "      <td>41428.518619</td>\n",
       "    </tr>\n",
       "    <tr>\n",
       "      <th>2</th>\n",
       "      <td>572.033882</td>\n",
       "      <td>547.795647</td>\n",
       "      <td>563.479294</td>\n",
       "      <td>563.501882</td>\n",
       "      <td>563.368588</td>\n",
       "      <td>563.590000</td>\n",
       "      <td>26636.774311</td>\n",
       "    </tr>\n",
       "    <tr>\n",
       "      <th>3</th>\n",
       "      <td>582.168506</td>\n",
       "      <td>551.378046</td>\n",
       "      <td>567.937011</td>\n",
       "      <td>567.957241</td>\n",
       "      <td>567.845287</td>\n",
       "      <td>568.028736</td>\n",
       "      <td>27884.727031</td>\n",
       "    </tr>\n",
       "    <tr>\n",
       "      <th>4</th>\n",
       "      <td>627.763212</td>\n",
       "      <td>605.818869</td>\n",
       "      <td>619.201542</td>\n",
       "      <td>619.239244</td>\n",
       "      <td>618.999273</td>\n",
       "      <td>619.403811</td>\n",
       "      <td>16184.122225</td>\n",
       "    </tr>\n",
       "    <tr>\n",
       "      <th>5</th>\n",
       "      <td>802.671815</td>\n",
       "      <td>748.315112</td>\n",
       "      <td>777.850524</td>\n",
       "      <td>777.987272</td>\n",
       "      <td>777.570413</td>\n",
       "      <td>778.130634</td>\n",
       "      <td>16744.835665</td>\n",
       "    </tr>\n",
       "    <tr>\n",
       "      <th>6</th>\n",
       "      <td>1053.681803</td>\n",
       "      <td>976.770152</td>\n",
       "      <td>1022.407966</td>\n",
       "      <td>1022.495427</td>\n",
       "      <td>1022.044746</td>\n",
       "      <td>1022.771186</td>\n",
       "      <td>27156.524772</td>\n",
       "    </tr>\n",
       "    <tr>\n",
       "      <th>7</th>\n",
       "      <td>1041.576371</td>\n",
       "      <td>979.127729</td>\n",
       "      <td>1015.089718</td>\n",
       "      <td>1015.090081</td>\n",
       "      <td>1014.862581</td>\n",
       "      <td>1015.316855</td>\n",
       "      <td>20917.726129</td>\n",
       "    </tr>\n",
       "    <tr>\n",
       "      <th>8</th>\n",
       "      <td>1392.256930</td>\n",
       "      <td>1306.895263</td>\n",
       "      <td>1373.430088</td>\n",
       "      <td>1373.685965</td>\n",
       "      <td>1373.100965</td>\n",
       "      <td>1373.759211</td>\n",
       "      <td>19000.295448</td>\n",
       "    </tr>\n",
       "    <tr>\n",
       "      <th>9</th>\n",
       "      <td>1404.939915</td>\n",
       "      <td>1304.459407</td>\n",
       "      <td>1360.449068</td>\n",
       "      <td>1360.516780</td>\n",
       "      <td>1360.183898</td>\n",
       "      <td>1360.714237</td>\n",
       "      <td>19430.891843</td>\n",
       "    </tr>\n",
       "    <tr>\n",
       "      <th>10</th>\n",
       "      <td>1698.852602</td>\n",
       "      <td>1606.640407</td>\n",
       "      <td>1663.861382</td>\n",
       "      <td>1663.847642</td>\n",
       "      <td>1663.654878</td>\n",
       "      <td>1664.067886</td>\n",
       "      <td>24067.901063</td>\n",
       "    </tr>\n",
       "    <tr>\n",
       "      <th>11</th>\n",
       "      <td>2289.157586</td>\n",
       "      <td>2114.292759</td>\n",
       "      <td>2208.245129</td>\n",
       "      <td>2208.077853</td>\n",
       "      <td>2207.868793</td>\n",
       "      <td>2208.621466</td>\n",
       "      <td>41147.285933</td>\n",
       "    </tr>\n",
       "    <tr>\n",
       "      <th>12</th>\n",
       "      <td>4262.557934</td>\n",
       "      <td>3715.957908</td>\n",
       "      <td>4046.430496</td>\n",
       "      <td>4046.301488</td>\n",
       "      <td>4045.987521</td>\n",
       "      <td>4046.873471</td>\n",
       "      <td>34901.138177</td>\n",
       "    </tr>\n",
       "  </tbody>\n",
       "</table>\n",
       "</div>"
      ],
      "text/plain": [
       "             High          Low          Mid         Last          Bid  \\\n",
       "Date                                                                    \n",
       "1     2909.784807  2595.553474  2779.482045  2779.638705  2778.933364   \n",
       "2      572.033882   547.795647   563.479294   563.501882   563.368588   \n",
       "3      582.168506   551.378046   567.937011   567.957241   567.845287   \n",
       "4      627.763212   605.818869   619.201542   619.239244   618.999273   \n",
       "5      802.671815   748.315112   777.850524   777.987272   777.570413   \n",
       "6     1053.681803   976.770152  1022.407966  1022.495427  1022.044746   \n",
       "7     1041.576371   979.127729  1015.089718  1015.090081  1014.862581   \n",
       "8     1392.256930  1306.895263  1373.430088  1373.685965  1373.100965   \n",
       "9     1404.939915  1304.459407  1360.449068  1360.516780  1360.183898   \n",
       "10    1698.852602  1606.640407  1663.861382  1663.847642  1663.654878   \n",
       "11    2289.157586  2114.292759  2208.245129  2208.077853  2207.868793   \n",
       "12    4262.557934  3715.957908  4046.430496  4046.301488  4045.987521   \n",
       "\n",
       "              Ask        Volume  \n",
       "Date                             \n",
       "1     2780.030727  41428.518619  \n",
       "2      563.590000  26636.774311  \n",
       "3      568.028736  27884.727031  \n",
       "4      619.403811  16184.122225  \n",
       "5      778.130634  16744.835665  \n",
       "6     1022.771186  27156.524772  \n",
       "7     1015.316855  20917.726129  \n",
       "8     1373.759211  19000.295448  \n",
       "9     1360.714237  19430.891843  \n",
       "10    1664.067886  24067.901063  \n",
       "11    2208.621466  41147.285933  \n",
       "12    4046.873471  34901.138177  "
      ]
     },
     "execution_count": 45,
     "metadata": {},
     "output_type": "execute_result"
    }
   ],
   "source": [
    "df.groupby(df.index.month).mean()"
   ]
  },
  {
   "cell_type": "code",
   "execution_count": null,
   "metadata": {
    "collapsed": true
   },
   "outputs": [],
   "source": []
  }
 ],
 "metadata": {
  "kernelspec": {
   "display_name": "Python 3",
   "language": "python",
   "name": "python3"
  },
  "language_info": {
   "codemirror_mode": {
    "name": "ipython",
    "version": 3
   },
   "file_extension": ".py",
   "mimetype": "text/x-python",
   "name": "python",
   "nbconvert_exporter": "python",
   "pygments_lexer": "ipython3",
   "version": "3.6.0"
  }
 },
 "nbformat": 4,
 "nbformat_minor": 2
}
